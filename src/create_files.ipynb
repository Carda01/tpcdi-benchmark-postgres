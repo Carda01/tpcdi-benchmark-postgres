{
 "cells": [
  {
   "cell_type": "code",
   "execution_count": 5,
   "metadata": {},
   "outputs": [
    {
     "name": "stdout",
     "output_type": "stream",
     "text": [
      "c:/Users/josub/Desktop/BDMA/Brussels/Data_Warehouses/TPC-DI OFFICIAL/tpcdi-benchmark-postgres/pruebas/dags/data/sf3\n"
     ]
    }
   ],
   "source": [
    "import os\n",
    "\n",
    "#SET VARIABLES\n",
    "SF=3\n",
    "PATH=os.getcwd().replace(\"\\\\\", \"/\")+'/dags/data/sf'+str(SF)\n",
    "print(PATH)"
   ]
  },
  {
   "cell_type": "code",
   "execution_count": 20,
   "metadata": {},
   "outputs": [],
   "source": [
    "#Create logs folder\n",
    "os.mkdir('logs')\n",
    "\n",
    "#Create .env\n",
    "env_file_path = \".env\"\n",
    "env_content = \"\"\"\n",
    "AIRFLOW_UID=501\n",
    "AIRFLOW_GID=0\n",
    "\"\"\"\n",
    "with open(env_file_path, \"w\") as env_file:\n",
    "    env_file.write(env_content)"
   ]
  },
  {
   "cell_type": "code",
   "execution_count": null,
   "metadata": {},
   "outputs": [],
   "source": []
  },
  {
   "cell_type": "code",
   "execution_count": 19,
   "metadata": {},
   "outputs": [],
   "source": [
    "output_file = \"dags/sf_\"+str(SF)+\"/staging_data_commands.sql\"\n",
    "\n",
    "# Generate SQL Statements\n",
    "with open(output_file, \"w\") as file:\n",
    "        sql = f\"\"\"COPY staging.batchdate FROM '{PATH}/Batch1/BatchDate.txt';\\n\n",
    "COPY staging.cashtransaction FROM '{PATH}/Batch1/CashTransaction.txt' delimiter '|';\\n\n",
    "COPY staging.dailymarket FROM '{PATH}/Batch1/DailyMarket.txt' delimiter '|';\\n\n",
    "COPY staging.date FROM '{PATH}/Batch1/Date.txt' delimiter '|';\\n\n",
    "COPY staging.holdinghistory FROM '{PATH}/Batch1/HoldingHistory.txt' delimiter '|';\\n\n",
    "COPY staging.hr FROM '{PATH}/Batch1/HR.csv' delimiter ',' CSV;\\n\n",
    "COPY staging.industry FROM '{PATH}/Batch1/Industry.txt' delimiter '|';\\n\n",
    "COPY staging.prospect FROM '{PATH}/Batch1/Prospect.csv' delimiter ',' CSV;\\n\n",
    "COPY staging.statustype FROM '{PATH}/Batch1/StatusType.txt' delimiter '|';\\n\n",
    "COPY staging.taxrate FROM '{PATH}/Batch1/TaxRate.txt' delimiter '|';\\n\n",
    "COPY staging.time FROM '{PATH}/Batch1/Time.txt' delimiter '|';\\n\n",
    "COPY staging.tradehistory FROM '{PATH}/Batch1/TradeHistory.txt' delimiter '|';\\n\n",
    "COPY staging.trade FROM '{PATH}/Batch1/Trade.txt' delimiter '|' null as '';\\n\n",
    "COPY staging.tradetype FROM '{PATH}/Batch1/TradeType.txt' delimiter '|';\\n\n",
    "COPY staging.watchhistory FROM '{PATH}/Batch1/WatchHistory.txt' delimiter '|';\\n\n",
    "COPY staging.audit FROM '{PATH}/Batch1_audit.csv' DELIMITER ',' HEADER CSV NULL AS '';\\n       \n",
    "\"\"\"\n",
    "\n",
    "        file.write(sql)\n",
    "        "
   ]
  },
  {
   "cell_type": "code",
   "execution_count": 21,
   "metadata": {},
   "outputs": [],
   "source": [
    "output_file = \"dags/sf_\"+str(SF)+\"/staging_finwire_load1.sql\"\n",
    "\n",
    "# Generate SQL Statements\n",
    "with open(output_file, \"w\") as file:\n",
    "    for i in range(1967,2017):\n",
    "        for j in range(4):\n",
    "            sql = f\"COPY staging.finwire FROM '{PATH}/Batch1/FINWIRE{i}Q{j+1}';\\n\"\n",
    "            file.write(sql)\n",
    "    sql = f\"COPY staging.finwire FROM '{PATH}/Batch1/FINWIRE2017Q1';\\n\"\n",
    "    file.write(sql)\n",
    "    sql = f\"COPY staging.finwire FROM '{PATH}/Batch1/FINWIRE2017Q2';\\n\"\n",
    "    file.write(sql)\n",
    "    sql = f\"COPY staging.finwire FROM '{PATH}/Batch1/FINWIRE2017Q3';\\n\"\n",
    "    file.write(sql)"
   ]
  },
  {
   "cell_type": "code",
   "execution_count": null,
   "metadata": {},
   "outputs": [],
   "source": []
  }
 ],
 "metadata": {
  "kernelspec": {
   "display_name": "base",
   "language": "python",
   "name": "python3"
  },
  "language_info": {
   "codemirror_mode": {
    "name": "ipython",
    "version": 3
   },
   "file_extension": ".py",
   "mimetype": "text/x-python",
   "name": "python",
   "nbconvert_exporter": "python",
   "pygments_lexer": "ipython3",
   "version": "3.12.7"
  }
 },
 "nbformat": 4,
 "nbformat_minor": 2
}
