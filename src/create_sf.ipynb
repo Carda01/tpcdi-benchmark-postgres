{
 "cells": [
  {
   "cell_type": "code",
   "execution_count": 16,
   "metadata": {},
   "outputs": [],
   "source": [
    "#SELECT THE SIZE OF THE NEW SF THAT YOU WANT TO CREATE\n",
    "SF=3"
   ]
  },
  {
   "cell_type": "code",
   "execution_count": 22,
   "metadata": {},
   "outputs": [
    {
     "name": "stdout",
     "output_type": "stream",
     "text": [
      "c:/Users/josub/Desktop/BDMA/Brussels/Data_Warehouses/TPC-DI OFFICIAL/tpcdi-benchmark-postgres/src/dags/data/sf_3\n"
     ]
    }
   ],
   "source": [
    "import os\n",
    "\n",
    "#SET VARIABLES\n",
    "PATH=os.getcwd().replace(\"\\\\\", \"/\")+'/dags/data/sf_'+str(SF)\n",
    "print(PATH)"
   ]
  },
  {
   "cell_type": "code",
   "execution_count": 18,
   "metadata": {},
   "outputs": [],
   "source": [
    "import shutil\n",
    "\n",
    "\n",
    "shutil.copytree('templates\\\\dags_temp', 'dags\\\\sf_'+str(SF))\n",
    "shutil.copy('templates\\\\plugins_temp\\\\customermgmt_conversion.py', 'plugins\\\\customermgmt_conversion_sf'+str(SF)+'.py')\n",
    "with open('dags\\\\sf_'+str(SF)+'\\\\full_historical_load_etl_dag.py', \"r\") as file:\n",
    "    content = file.read()\n",
    "modified_content = content.replace('INPUT_SF', str(SF))\n",
    "with open('dags\\\\sf_'+str(SF)+'\\\\full_historical_load_etl_dag.py', \"w\") as file:\n",
    "    file.write(modified_content)\n",
    "    \n",
    "with open('plugins\\\\customermgmt_conversion_sf'+str(SF)+'.py', \"r\") as file:\n",
    "    content = file.read()\n",
    "modified_content = content.replace('INPUT_SF', str(SF))\n",
    "with open('plugins\\\\customermgmt_conversion_sf'+str(SF)+'.py', \"w\") as file:\n",
    "    file.write(modified_content)"
   ]
  },
  {
   "cell_type": "code",
   "execution_count": 23,
   "metadata": {},
   "outputs": [],
   "source": [
    "output_file = \"dags/sf_\"+str(SF)+\"/staging_data_commands.sql\"\n",
    "\n",
    "# Generate SQL Statements\n",
    "with open(output_file, \"w\") as file:\n",
    "        sql = f\"\"\"COPY staging.batchdate FROM '{PATH}/Batch1/BatchDate.txt';\\n\n",
    "COPY staging.cashtransaction FROM '{PATH}/Batch1/CashTransaction.txt' delimiter '|';\\n\n",
    "COPY staging.dailymarket FROM '{PATH}/Batch1/DailyMarket.txt' delimiter '|';\\n\n",
    "COPY staging.date FROM '{PATH}/Batch1/Date.txt' delimiter '|';\\n\n",
    "COPY staging.holdinghistory FROM '{PATH}/Batch1/HoldingHistory.txt' delimiter '|';\\n\n",
    "COPY staging.hr FROM '{PATH}/Batch1/HR.csv' delimiter ',' CSV;\\n\n",
    "COPY staging.industry FROM '{PATH}/Batch1/Industry.txt' delimiter '|';\\n\n",
    "COPY staging.prospect FROM '{PATH}/Batch1/Prospect.csv' delimiter ',' CSV;\\n\n",
    "COPY staging.statustype FROM '{PATH}/Batch1/StatusType.txt' delimiter '|';\\n\n",
    "COPY staging.taxrate FROM '{PATH}/Batch1/TaxRate.txt' delimiter '|';\\n\n",
    "COPY staging.time FROM '{PATH}/Batch1/Time.txt' delimiter '|';\\n\n",
    "COPY staging.tradehistory FROM '{PATH}/Batch1/TradeHistory.txt' delimiter '|';\\n\n",
    "COPY staging.trade FROM '{PATH}/Batch1/Trade.txt' delimiter '|' null as '';\\n\n",
    "COPY staging.tradetype FROM '{PATH}/Batch1/TradeType.txt' delimiter '|';\\n\n",
    "COPY staging.watchhistory FROM '{PATH}/Batch1/WatchHistory.txt' delimiter '|';\\n\n",
    "COPY staging.audit FROM '{PATH}/Batch1_audit.csv' DELIMITER ',' HEADER CSV NULL AS '';\\n       \n",
    "\"\"\"\n",
    "\n",
    "        file.write(sql)\n",
    "        "
   ]
  },
  {
   "cell_type": "code",
   "execution_count": 24,
   "metadata": {},
   "outputs": [],
   "source": [
    "output_file = \"dags/sf_\"+str(SF)+\"/staging_finwire_load1.sql\"\n",
    "\n",
    "# Generate SQL Statements\n",
    "with open(output_file, \"w\") as file:\n",
    "    for i in range(1967,2017):\n",
    "        for j in range(4):\n",
    "            sql = f\"COPY staging.finwire FROM '{PATH}/Batch1/FINWIRE{i}Q{j+1}';\\n\"\n",
    "            file.write(sql)\n",
    "    sql = f\"COPY staging.finwire FROM '{PATH}/Batch1/FINWIRE2017Q1';\\n\"\n",
    "    file.write(sql)\n",
    "    sql = f\"COPY staging.finwire FROM '{PATH}/Batch1/FINWIRE2017Q2';\\n\"\n",
    "    file.write(sql)\n",
    "    sql = f\"COPY staging.finwire FROM '{PATH}/Batch1/FINWIRE2017Q3';\\n\"\n",
    "    file.write(sql)"
   ]
  },
  {
   "cell_type": "code",
   "execution_count": 25,
   "metadata": {},
   "outputs": [],
   "source": [
    "output_file = \"dags/sf_\"+str(SF)+\"/load_staging_customermgmt_db.sql\"\n",
    "\n",
    "# Generate SQL Statements\n",
    "with open(output_file, \"w\") as file:\n",
    "    sql = f\"COPY staging.customermgmt FROM '{PATH}/Batch1/CustomerMgmt.csv' DELIMITER ',' HEADER CSV NULL AS '';\\n\"\n",
    "    file.write(sql)"
   ]
  }
 ],
 "metadata": {
  "kernelspec": {
   "display_name": "base",
   "language": "python",
   "name": "python3"
  },
  "language_info": {
   "codemirror_mode": {
    "name": "ipython",
    "version": 3
   },
   "file_extension": ".py",
   "mimetype": "text/x-python",
   "name": "python",
   "nbconvert_exporter": "python",
   "pygments_lexer": "ipython3",
   "version": "3.12.7"
  }
 },
 "nbformat": 4,
 "nbformat_minor": 2
}
