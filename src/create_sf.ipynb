{
 "cells": [
  {
   "cell_type": "code",
   "execution_count": 1,
   "metadata": {},
   "outputs": [],
   "source": [
    "import os\n",
    "from pathlib import Path\n",
    "import shutil"
   ]
  },
  {
   "cell_type": "code",
   "execution_count": 2,
   "metadata": {},
   "outputs": [],
   "source": [
    "#SELECT THE SIZE OF THE NEW SF THAT YOU WANT TO CREATE\n",
    "SF=5"
   ]
  },
  {
   "cell_type": "code",
   "execution_count": 3,
   "metadata": {},
   "outputs": [
    {
     "name": "stdout",
     "output_type": "stream",
     "text": [
      "/Users/alfio/projects/tpcdi-benchmark-postgres/src/dags/data/sf_5\n"
     ]
    }
   ],
   "source": [
    "#SET VARIABLES\n",
    "PATH=os.getcwd().replace(\"\\\\\", \"/\")+'/dags/data/sf_'+str(SF)\n",
    "print(PATH)"
   ]
  },
  {
   "cell_type": "code",
   "execution_count": 4,
   "metadata": {},
   "outputs": [],
   "source": [
    "p = Path('.')\n",
    "dags_templates_path = p / 'dags_temp'\n",
    "dags_sf_path = p / 'dags' / f'sf_{SF}'\n",
    "\n",
    "shutil.copytree(dags_templates_path , dags_sf_path)\n",
    "with open(dags_sf_path / 'full_historical_load_etl_dag.py', \"r\") as file:\n",
    "    content = file.read()\n",
    "modified_content = content.replace('INPUT_SF', str(SF))\n",
    "with open(dags_sf_path / 'full_historical_load_etl_dag.py', \"w\") as file:\n",
    "    file.write(modified_content)\n",
    "    \n",
    "with open(dags_sf_path / 'incremental_first_dag.py', \"r\") as file:\n",
    "    content = file.read()\n",
    "modified_content = content.replace('INPUT_SF', str(SF))\n",
    "with open(dags_sf_path / 'incremental_first_dag.py', \"w\") as file:\n",
    "    file.write(modified_content)\n",
    "\n",
    "with open(dags_sf_path / 'incremental_second_dag.py', \"r\") as file:\n",
    "    content = file.read()\n",
    "modified_content = content.replace('INPUT_SF', str(SF))\n",
    "with open(dags_sf_path / 'incremental_second_dag.py', \"w\") as file:\n",
    "    file.write(modified_content)"
   ]
  },
  {
   "cell_type": "code",
   "execution_count": 5,
   "metadata": {},
   "outputs": [],
   "source": [
    "output_file = dags_sf_path / 'staging_data_commands.sql'\n",
    "\n",
    "# Generate SQL Statements\n",
    "with open(output_file, \"w\") as file:\n",
    "        sql = f\"\"\"COPY staging.batchdate FROM '{PATH}/Batch1/BatchDate.txt';\\n\n",
    "COPY staging.cashtransaction FROM '{PATH}/Batch1/CashTransaction.txt' delimiter '|';\\n\n",
    "COPY staging.dailymarket FROM '{PATH}/Batch1/DailyMarket.txt' delimiter '|';\\n\n",
    "COPY staging.date FROM '{PATH}/Batch1/Date.txt' delimiter '|';\\n\n",
    "COPY staging.holdinghistory FROM '{PATH}/Batch1/HoldingHistory.txt' delimiter '|';\\n\n",
    "COPY staging.hr FROM '{PATH}/Batch1/HR.csv' delimiter ',' CSV;\\n\n",
    "COPY staging.industry FROM '{PATH}/Batch1/Industry.txt' delimiter '|';\\n\n",
    "COPY staging.prospect FROM '{PATH}/Batch1/Prospect.csv' delimiter ',' CSV;\\n\n",
    "COPY staging.statustype FROM '{PATH}/Batch1/StatusType.txt' delimiter '|';\\n\n",
    "COPY staging.taxrate FROM '{PATH}/Batch1/TaxRate.txt' delimiter '|';\\n\n",
    "COPY staging.time FROM '{PATH}/Batch1/Time.txt' delimiter '|';\\n\n",
    "COPY staging.tradehistory FROM '{PATH}/Batch1/TradeHistory.txt' delimiter '|';\\n\n",
    "COPY staging.trade FROM '{PATH}/Batch1/Trade.txt' delimiter '|' null as '';\\n\n",
    "COPY staging.tradetype FROM '{PATH}/Batch1/TradeType.txt' delimiter '|';\\n\n",
    "COPY staging.watchhistory FROM '{PATH}/Batch1/WatchHistory.txt' delimiter '|';\\n\n",
    "COPY staging.audit FROM '{PATH}/Batch1_audit.csv' DELIMITER ',' HEADER CSV NULL AS '';\\n       \n",
    "\"\"\"\n",
    "\n",
    "        file.write(sql)\n",
    "        "
   ]
  },
  {
   "cell_type": "code",
   "execution_count": 17,
   "metadata": {},
   "outputs": [],
   "source": [
    "output_file = dags_sf_path / 'staging_finwire_load1.sql'\n",
    "\n",
    "# Generate SQL Statements\n",
    "with open(output_file, \"w\") as file:\n",
    "    for i in range(1967,2017):\n",
    "        for j in range(4):\n",
    "            sql = f\"COPY staging.finwire FROM '{PATH}/Batch1/FINWIRE{i}Q{j+1}';\\n\"\n",
    "            file.write(sql)\n",
    "    sql = f\"COPY staging.finwire FROM '{PATH}/Batch1/FINWIRE2017Q1';\\n\"\n",
    "    file.write(sql)\n",
    "    sql = f\"COPY staging.finwire FROM '{PATH}/Batch1/FINWIRE2017Q2';\\n\"\n",
    "    file.write(sql)\n",
    "    sql = f\"COPY staging.finwire FROM '{PATH}/Batch1/FINWIRE2017Q3';\\n\"\n",
    "    file.write(sql)"
   ]
  },
  {
   "cell_type": "code",
   "execution_count": 6,
   "metadata": {},
   "outputs": [],
   "source": [
    "output_file = dags_sf_path / \"load_staging_customermgmt_db.sql\"\n",
    "\n",
    "# Generate SQL Statements\n",
    "with open(output_file, \"w\") as file:\n",
    "    sql = f\"COPY staging.customermgmt FROM '{PATH}/Batch1/CustomerMgmt.csv' DELIMITER ',' HEADER CSV NULL AS '';\\n\"\n",
    "    file.write(sql)"
   ]
  },
  {
   "cell_type": "code",
   "execution_count": 7,
   "metadata": {},
   "outputs": [],
   "source": [
    "output_file = dags_sf_path / \"incremental_update\" / \"load_staging_b3.sql\"\n",
    "\n",
    "# Generate SQL Statements\n",
    "with open(output_file, \"w\") as file:\n",
    "    sql = f\"\"\"COPY staging.batchdate FROM '{PATH}/Batch3/BatchDate.txt';\n",
    "COPY staging.cashtransaction_b2 FROM '{PATH}/Batch3/CashTransaction.txt' delimiter '|';\n",
    "COPY staging.dailymarket_b2 FROM '{PATH}/Batch3/DailyMarket.txt' delimiter '|';\n",
    "COPY staging.holdinghistory_b2 FROM '{PATH}/Batch3/HoldingHistory.txt' delimiter '|';\n",
    "COPY staging.prospect FROM '{PATH}/Batch3/Prospect.csv' delimiter ',' CSV;\n",
    "COPY staging.watchhistory_b2 FROM '{PATH}/Batch3/WatchHistory.txt' delimiter '|';\n",
    "COPY staging.trade_b2 FROM '{PATH}/Batch3/Trade.txt' delimiter '|' null as '';\n",
    "COPY staging.customer FROM '{PATH}/Batch3/Customer.txt' delimiter '|' null as '';\n",
    "COPY staging.account FROM '{PATH}/Batch3/Account.txt' delimiter '|' null as '';\"\"\"\n",
    "    file.write(sql)"
   ]
  },
  {
   "cell_type": "code",
   "execution_count": 8,
   "metadata": {},
   "outputs": [],
   "source": [
    "output_file = dags_sf_path / \"incremental_update\" / \"load_staging.sql\"\n",
    "\n",
    "# Generate SQL Statements\n",
    "with open(output_file, \"w\") as file:\n",
    "    sql = f\"\"\"COPY staging.batchdate FROM '{PATH}/Batch2/BatchDate.txt';\n",
    "COPY staging.cashtransaction_b2 FROM '{PATH}/Batch2/CashTransaction.txt' delimiter '|';\n",
    "COPY staging.dailymarket_b2 FROM '{PATH}/Batch2/DailyMarket.txt' delimiter '|';\n",
    "COPY staging.holdinghistory_b2 FROM '{PATH}/Batch2/HoldingHistory.txt' delimiter '|';\n",
    "COPY staging.prospect FROM '{PATH}/Batch2/Prospect.csv' delimiter ',' CSV;\n",
    "COPY staging.watchhistory_b2 FROM '{PATH}/Batch2/WatchHistory.txt' delimiter '|';\n",
    "COPY staging.trade_b2 FROM '{PATH}/Batch2/Trade.txt' delimiter '|' null as '';\n",
    "COPY staging.customer FROM '{PATH}/Batch2/Customer.txt' delimiter '|' null as '';\n",
    "COPY staging.account FROM '{PATH}/Batch2/Account.txt' delimiter '|' null as '';\"\"\"\n",
    "    file.write(sql)"
   ]
  }
 ],
 "metadata": {
  "kernelspec": {
   "display_name": "Python 3",
   "language": "python",
   "name": "python3"
  },
  "language_info": {
   "codemirror_mode": {
    "name": "ipython",
    "version": 3
   },
   "file_extension": ".py",
   "mimetype": "text/x-python",
   "name": "python",
   "nbconvert_exporter": "python",
   "pygments_lexer": "ipython3",
   "version": "3.9.6"
  }
 },
 "nbformat": 4,
 "nbformat_minor": 2
}
