{
 "cells": [
  {
   "cell_type": "markdown",
   "metadata": {},
   "source": [
    "# Results Comparison\n",
    "This notebook primary aim is to showcase our work regarding the improvement of the ETL process implementation. It compares the results of the original repository with the results of our repository in regard to the tpc-di audit checks\n",
    "\n",
    "We start by loading the results of the original repository:"
   ]
  },
  {
   "cell_type": "code",
   "execution_count": 9,
   "metadata": {},
   "outputs": [
    {
     "data": {
      "text/html": [
       "<div>\n",
       "<style scoped>\n",
       "    .dataframe tbody tr th:only-of-type {\n",
       "        vertical-align: middle;\n",
       "    }\n",
       "\n",
       "    .dataframe tbody tr th {\n",
       "        vertical-align: top;\n",
       "    }\n",
       "\n",
       "    .dataframe thead th {\n",
       "        text-align: right;\n",
       "    }\n",
       "</style>\n",
       "<table border=\"1\" class=\"dataframe\">\n",
       "  <thead>\n",
       "    <tr style=\"text-align: right;\">\n",
       "      <th></th>\n",
       "      <th>test</th>\n",
       "      <th>batch</th>\n",
       "      <th>result</th>\n",
       "      <th>description</th>\n",
       "      <th>count</th>\n",
       "    </tr>\n",
       "  </thead>\n",
       "  <tbody>\n",
       "    <tr>\n",
       "      <th>0</th>\n",
       "      <td>Audit table batches</td>\n",
       "      <td>NaN</td>\n",
       "      <td>OK</td>\n",
       "      <td>There must be audit data for 3 batches        ...</td>\n",
       "      <td>89</td>\n",
       "    </tr>\n",
       "    <tr>\n",
       "      <th>1</th>\n",
       "      <td>Audit table sources</td>\n",
       "      <td>NaN</td>\n",
       "      <td>Mismatch</td>\n",
       "      <td>There must be audit data for all data sets    ...</td>\n",
       "      <td>89</td>\n",
       "    </tr>\n",
       "    <tr>\n",
       "      <th>2</th>\n",
       "      <td>DimAccount batches</td>\n",
       "      <td>NaN</td>\n",
       "      <td>Mismatch</td>\n",
       "      <td>BatchID values must match Audit table         ...</td>\n",
       "      <td>89</td>\n",
       "    </tr>\n",
       "    <tr>\n",
       "      <th>3</th>\n",
       "      <td>DimAccount consolidation</td>\n",
       "      <td>NaN</td>\n",
       "      <td>OK</td>\n",
       "      <td>No records become effective and end on the sam...</td>\n",
       "      <td>89</td>\n",
       "    </tr>\n",
       "    <tr>\n",
       "      <th>4</th>\n",
       "      <td>DimAccount distinct keys</td>\n",
       "      <td>NaN</td>\n",
       "      <td>OK</td>\n",
       "      <td>All SKs are distinct                          ...</td>\n",
       "      <td>89</td>\n",
       "    </tr>\n",
       "  </tbody>\n",
       "</table>\n",
       "</div>"
      ],
      "text/plain": [
       "                 test                  batch   \\\n",
       "0  Audit table batches                    NaN   \n",
       "1  Audit table sources                    NaN   \n",
       "2  DimAccount batches                     NaN   \n",
       "3  DimAccount consolidation               NaN   \n",
       "4  DimAccount distinct keys               NaN   \n",
       "\n",
       "                  result                  \\\n",
       "0  OK                                      \n",
       "1  Mismatch                                \n",
       "2  Mismatch                                \n",
       "3  OK                                      \n",
       "4  OK                                      \n",
       "\n",
       "  description                                            count  \n",
       "0  There must be audit data for 3 batches        ...        89  \n",
       "1  There must be audit data for all data sets    ...        89  \n",
       "2  BatchID values must match Audit table         ...        89  \n",
       "3  No records become effective and end on the sam...        89  \n",
       "4  All SKs are distinct                          ...        89  "
      ]
     },
     "execution_count": 9,
     "metadata": {},
     "output_type": "execute_result"
    }
   ],
   "source": [
    "import pandas as pd\n",
    "\n",
    "# Assuming the file is saved as 'data.txt'\n",
    "file_path = 'validation_results/original_repo_results.txt'\n",
    "\n",
    "# Read the text file, clean up and parse the data\n",
    "original_results = pd.read_csv(file_path, sep='|', engine='python', skipinitialspace=True)\n",
    "original_results.head(5)"
   ]
  },
  {
   "cell_type": "markdown",
   "metadata": {},
   "source": [
    "original_results"
   ]
  }
 ],
 "metadata": {
  "kernelspec": {
   "display_name": "Python 3",
   "language": "python",
   "name": "python3"
  },
  "language_info": {
   "codemirror_mode": {
    "name": "ipython",
    "version": 3
   },
   "file_extension": ".py",
   "mimetype": "text/x-python",
   "name": "python",
   "nbconvert_exporter": "python",
   "pygments_lexer": "ipython3",
   "version": "3.10.11"
  }
 },
 "nbformat": 4,
 "nbformat_minor": 2
}
