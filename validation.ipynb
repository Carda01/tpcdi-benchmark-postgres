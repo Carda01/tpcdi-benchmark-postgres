{
 "cells": [
  {
   "cell_type": "code",
   "execution_count": 1,
   "metadata": {},
   "outputs": [
    {
     "name": "stdout",
     "output_type": "stream",
     "text": [
      "Defaulting to user installation because normal site-packages is not writeable\n",
      "Requirement already satisfied: psycopg2 in c:\\users\\josub\\appdata\\roaming\\python\\python312\\site-packages (2.9.10)\n"
     ]
    }
   ],
   "source": [
    "!pip install psycopg2\n",
    "import psycopg2\n",
    "import subprocess\n",
    "import os"
   ]
  },
  {
   "cell_type": "code",
   "execution_count": 10,
   "metadata": {},
   "outputs": [],
   "source": [
    "database = \"tpcdi\"\n",
    "user = \"postgres\"\n",
    "host = \"127.0.0.1\"\n",
    "port = \"5416\""
   ]
  },
  {
   "cell_type": "code",
   "execution_count": 15,
   "metadata": {},
   "outputs": [
    {
     "name": "stdout",
     "output_type": "stream",
     "text": [
      "psql -h 127.0.0.1 -p 5416 -U postgres -d tpcdi -f validation/tpcdi_audit_last.sql\n",
      "psql -h 127.0.0.1 -p 5416 -U postgres -d tpcdi -f validation/tpcdi_validation.sql\n",
      "psql -h 127.0.0.1 -p 5416 -U postgres -d tpcdi -f validation/tpcdi_visibility_1.sql\n",
      "psql -h 127.0.0.1 -p 5416 -U postgres -d tpcdi -f validation/tpcdi_visibility_2.sql\n"
     ]
    },
    {
     "data": {
      "text/plain": [
       "'\\n# Open a new terminal and execute the command (works for Windows)\\ntry:\\n    subprocess.run([\\'start\\', \\'cmd\\', \\'/K\\', command], shell=True)\\nexcept Exception as e:\\n    print(f\"An error occurred: {e}\")\\n'"
      ]
     },
     "execution_count": 15,
     "metadata": {},
     "output_type": "execute_result"
    }
   ],
   "source": [
    "# Define the command to be executed\n",
    "command = f'psql -h {host} -p {port} -U {user} -d {database} -f validation/tpcdi_audit_last.sql'\n",
    "print(command)\n",
    "command = f'psql -h {host} -p {port} -U {user} -d {database} -f validation/tpcdi_validation.sql'\n",
    "print(command)\n",
    "command = f'psql -h {host} -p {port} -U {user} -d {database} -f validation/tpcdi_visibility_1.sql'\n",
    "print(command)\n",
    "command = f'psql -h {host} -p {port} -U {user} -d {database} -f validation/tpcdi_visibility_2.sql'\n",
    "print(command)\n",
    "\n",
    "\n",
    "\"\"\"\n",
    "# Open a new terminal and execute the command (works for Windows)\n",
    "try:\n",
    "    subprocess.run(['start', 'cmd', '/K', command], shell=True)\n",
    "except Exception as e:\n",
    "    print(f\"An error occurred: {e}\")\n",
    "\"\"\""
   ]
  }
 ],
 "metadata": {
  "kernelspec": {
   "display_name": "base",
   "language": "python",
   "name": "python3"
  },
  "language_info": {
   "codemirror_mode": {
    "name": "ipython",
    "version": 3
   },
   "file_extension": ".py",
   "mimetype": "text/x-python",
   "name": "python",
   "nbconvert_exporter": "python",
   "pygments_lexer": "ipython3",
   "version": "3.12.7"
  }
 },
 "nbformat": 4,
 "nbformat_minor": 2
}
