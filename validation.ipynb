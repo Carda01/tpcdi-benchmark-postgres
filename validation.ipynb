{
 "cells": [
  {
   "cell_type": "code",
   "execution_count": 1,
   "metadata": {},
   "outputs": [],
   "source": [
    "#!pip install psycopg2\n",
    "import psycopg2\n",
    "import subprocess\n",
    "import os"
   ]
  },
  {
   "cell_type": "code",
   "execution_count": 4,
   "metadata": {},
   "outputs": [],
   "source": [
    "database = \"tpcdi\"\n",
    "user = \"postgres\"\n",
    "host = \"127.0.0.1\"\n",
    "port = \"5432\""
   ]
  },
  {
   "cell_type": "code",
   "execution_count": 5,
   "metadata": {},
   "outputs": [
    {
     "name": "stdout",
     "output_type": "stream",
     "text": [
      "psql -h 127.0.0.1 -p 5432 -U postgres -d tpcdi -f validation/tpcdi_audit.sql\n",
      "psql -h 127.0.0.1 -p 5432 -U postgres -d tpcdi -f validation/tpcdi_validation.sql\n",
      "psql -h 127.0.0.1 -p 5432 -U postgres -d tpcdi -f validation/tpcdi_visibility_1.sql\n",
      "psql -h 127.0.0.1 -p 5432 -U postgres -d tpcdi -f validation/tpcdi_visibility_2.sql\n",
      "psql -h 127.0.0.1 -p 5432 -U postgres -d tpcdi -f validation/tpcdi_audit_last.sql\n"
     ]
    },
    {
     "data": {
      "text/plain": [
       "'\\n# Open a new terminal and execute the command (works for Windows)\\ntry:\\n    subprocess.run([\\'start\\', \\'cmd\\', \\'/K\\', command], shell=True)\\nexcept Exception as e:\\n    print(f\"An error occurred: {e}\")\\n'"
      ]
     },
     "execution_count": 5,
     "metadata": {},
     "output_type": "execute_result"
    }
   ],
   "source": [
    "#IS NOT WORKING\n",
    "# Define the command to be executed\n",
    "command = f'psql -h {host} -p {port} -U {user} -d {database} -f validation/tpcdi_audit.sql'\n",
    "print(command)\n",
    "command = f'psql -h {host} -p {port} -U {user} -d {database} -f validation/tpcdi_validation.sql'\n",
    "print(command)\n",
    "command = f'psql -h {host} -p {port} -U {user} -d {database} -f validation/tpcdi_visibility_1.sql'\n",
    "print(command)\n",
    "command = f'psql -h {host} -p {port} -U {user} -d {database} -f validation/tpcdi_visibility_2.sql'\n",
    "print(command)\n",
    "\n",
    "\n",
    "\"\"\"\n",
    "# Open a new terminal and execute the command (works for Windows)\n",
    "try:\n",
    "    subprocess.run(['start', 'cmd', '/K', command], shell=True)\n",
    "except Exception as e:\n",
    "    print(f\"An error occurred: {e}\")\n",
    "\"\"\""
   ]
  },
  {
   "cell_type": "code",
   "execution_count": null,
   "metadata": {},
   "outputs": [],
   "source": []
  }
 ],
 "metadata": {
  "kernelspec": {
   "display_name": "Python 3",
   "language": "python",
   "name": "python3"
  },
  "language_info": {
   "codemirror_mode": {
    "name": "ipython",
    "version": 3
   },
   "file_extension": ".py",
   "mimetype": "text/x-python",
   "name": "python",
   "nbconvert_exporter": "python",
   "pygments_lexer": "ipython3",
   "version": "3.10.11"
  }
 },
 "nbformat": 4,
 "nbformat_minor": 2
}
