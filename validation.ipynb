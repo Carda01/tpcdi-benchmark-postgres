{
 "cells": [
  {
   "cell_type": "markdown",
   "metadata": {},
   "source": [
    "# VALIDATION NOTEBOOK\n",
    "This notebook loads all the audit files in the table master.audit:"
   ]
  },
  {
   "cell_type": "code",
   "execution_count": 1,
   "metadata": {},
   "outputs": [],
   "source": [
    "#!pip install psycopg2\n",
    "import os\n",
    "import pandas as pd\n",
    "from sqlalchemy import create_engine"
   ]
  },
  {
   "cell_type": "markdown",
   "metadata": {},
   "source": [
    "We set the scale factor that we are interested:"
   ]
  },
  {
   "cell_type": "code",
   "execution_count": 2,
   "metadata": {},
   "outputs": [],
   "source": [
    "SF=5"
   ]
  },
  {
   "cell_type": "markdown",
   "metadata": {},
   "source": [
    "Now we save all the audit files of Batch1 - historical data load into one pandas dataframe"
   ]
  },
  {
   "cell_type": "code",
   "execution_count": 3,
   "metadata": {},
   "outputs": [],
   "source": [
    "# Define the directory where the CSV files are located\n",
    "paths = [f'./src/dags/data/sf_{SF}/Batch1', f'./src/dags/data/sf_{SF}/Batch2', f'./src/dags/data/sf_{SF}/Batch3']\n",
    "dataframes = []\n",
    "\n",
    "# Loop through all files in the directory\n",
    "for batch_path in paths:\n",
    "  for filename in os.listdir(batch_path):\n",
    "      if filename.endswith('_audit.csv'):\n",
    "\n",
    "          file_path = os.path.join(batch_path, filename)\n",
    "          \n",
    "          df = pd.read_csv(file_path)\n",
    "        \n",
    "          dataframes.append(df)\n",
    "\n",
    "# Concatenate all dataframes into one large dataframe\n",
    "final_df = pd.concat(dataframes, ignore_index=True)\n",
    "final_df.columns = ['dataset', 'batchid', 'date', 'attribute', 'value', 'dvalue']\n",
    "final_df['date'] = pd.to_datetime(final_df['date']).dt.date"
   ]
  },
  {
   "cell_type": "markdown",
   "metadata": {},
   "source": [
    "Now we set up the connection to the database and set up the first 3 parameters\n",
    "This script fills up the `master.audit` table with the previous calculated dataframe:"
   ]
  },
  {
   "cell_type": "code",
   "execution_count": 4,
   "metadata": {},
   "outputs": [
    {
     "name": "stdout",
     "output_type": "stream",
     "text": [
      "DataFrame has been copied to PostgreSQL table 'master.audit'.\n"
     ]
    }
   ],
   "source": [
    "user = 'postgres'\n",
    "password = 'postgres'\n",
    "port = '5432'\n",
    "\n",
    "host = 'localhost'\n",
    "database = f'sf_{SF}'\n",
    "\n",
    "# Create a connection string for SQLAlchemy\n",
    "conn_string = f'postgresql://{user}:{password}@{host}:{port}/{database}'\n",
    "\n",
    "# Create a SQLAlchemy engine\n",
    "engine = create_engine(conn_string)\n",
    "\n",
    "table_name = 'master.audit' \n",
    "\n",
    "final_df.to_sql('audit', engine, schema='master', if_exists='replace', index=False)\n",
    "\n",
    "print(\"DataFrame has been copied to PostgreSQL table 'master.audit'.\")"
   ]
  },
  {
   "cell_type": "markdown",
   "metadata": {},
   "source": [
    "If we want to execute some of the validation tests - we just run one of the followings in the cmd (works for windows)"
   ]
  },
  {
   "cell_type": "code",
   "execution_count": 5,
   "metadata": {},
   "outputs": [
    {
     "name": "stdout",
     "output_type": "stream",
     "text": [
      "psql -h localhost -p 5432 -U postgres -d sf_5 -f validation/tpcdi_audit.sql\n",
      "psql -h localhost -p 5432 -U postgres -d sf_5 -f validation/tpcdi_validation.sql\n",
      "psql -h localhost -p 5432 -U postgres -d sf_5 -f validation/tpcdi_visibility_1.sql\n",
      "psql -h localhost -p 5432 -U postgres -d sf_5 -f validation/tpcdi_visibility_2.sql\n"
     ]
    }
   ],
   "source": [
    "# Define the command to be executed\n",
    "command = f'psql -h {host} -p {port} -U {user} -d {database} -f validation/tpcdi_audit.sql'\n",
    "print(command)\n",
    "command = f'psql -h {host} -p {port} -U {user} -d {database} -f validation/tpcdi_validation.sql'\n",
    "print(command)\n",
    "command = f'psql -h {host} -p {port} -U {user} -d {database} -f validation/tpcdi_visibility_1.sql'\n",
    "print(command)\n",
    "command = f'psql -h {host} -p {port} -U {user} -d {database} -f validation/tpcdi_visibility_2.sql'\n",
    "print(command)"
   ]
  },
  {
   "cell_type": "code",
   "execution_count": null,
   "metadata": {},
   "outputs": [],
   "source": []
  }
 ],
 "metadata": {
  "kernelspec": {
   "display_name": "Python 3",
   "language": "python",
   "name": "python3"
  },
  "language_info": {
   "codemirror_mode": {
    "name": "ipython",
    "version": 3
   },
   "file_extension": ".py",
   "mimetype": "text/x-python",
   "name": "python",
   "nbconvert_exporter": "python",
   "pygments_lexer": "ipython3",
   "version": "3.10.11"
  }
 },
 "nbformat": 4,
 "nbformat_minor": 2
}
